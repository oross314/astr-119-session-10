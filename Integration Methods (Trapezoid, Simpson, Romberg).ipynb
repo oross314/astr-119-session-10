{
 "cells": [
  {
   "cell_type": "markdown",
   "metadata": {},
   "source": [
    "## Let's use the Trapezoid Method, Simpson's Rule"
   ]
  },
  {
   "cell_type": "code",
   "execution_count": null,
   "metadata": {},
   "outputs": [],
   "source": [
    "%matplotlib inline\n",
    "import numpy as np\n",
    "import matplotlib as plt"
   ]
  },
  {
   "cell_type": "markdown",
   "metadata": {},
   "source": [
    "## Define a function for taking an integral"
   ]
  },
  {
   "cell_type": "code",
   "execution_count": null,
   "metadata": {},
   "outputs": [],
   "source": [
    "def func(x):\n",
    "    a=1.01\n",
    "    b=-3.04\n",
    "    c=2.07\n",
    "    return a*x**2+b*x+c"
   ]
  },
  {
   "cell_type": "markdown",
   "metadata": {},
   "source": [
    "## Define the integral so we know the right answer"
   ]
  },
  {
   "cell_type": "code",
   "execution_count": null,
   "metadata": {},
   "outputs": [],
   "source": [
    "def func_integral(x):\n",
    "    a=1.01\n",
    "    b=-3.04\n",
    "    c=2.07\n",
    "    return(a*x**3)/3+(b*x**2)/2+c*x"
   ]
  },
  {
   "cell_type": "markdown",
   "metadata": {},
   "source": [
    "## Define the core of the trapezoid method"
   ]
  },
  {
   "cell_type": "code",
   "execution_count": null,
   "metadata": {},
   "outputs": [],
   "source": [
    "def trapezoid_core (f,x,h):\n",
    "    return .5*h*(f(x+h)+f(x))"
   ]
  },
  {
   "cell_type": "markdown",
   "metadata": {},
   "source": [
    "### Define a wrapper function to perform trapezoid method"
   ]
  },
  {
   "cell_type": "code",
   "execution_count": null,
   "metadata": {},
   "outputs": [],
   "source": [
    "def trapezoid_method(f,a,b,N):\n",
    "    #f function to integrate\n",
    "    #a lower limit of int\n",
    "    #b upper limit int\n",
    "    #N number of function evaluations to use\n",
    "    #number of chunks N-1\n",
    "    #is N is odd, the we don't need to adjust the last segment\n",
    "    \n",
    "    #define x values to perform Trapezoid\n",
    "    x=np.linspace(a,b,N)\n",
    "    h=x[1]-x[0]\n",
    "    \n",
    "    #define the value of the integral\n",
    "    Fint=0.0\n",
    "    \n",
    "    #perform the integral using the trapezoid methof\n",
    "    for i in range(0,len(x)-1,1):\n",
    "        Fint +=trapezoid_core(f,x[i],h)\n",
    "        #print(i,i+1,x[i]+h,x[-2],x[-1])\n",
    "        \n",
    "    #return the answer\n",
    "    return Fint"
   ]
  },
  {
   "cell_type": "markdown",
   "metadata": {},
   "source": [
    "## Define Simpson Core"
   ]
  },
  {
   "cell_type": "code",
   "execution_count": null,
   "metadata": {},
   "outputs": [],
   "source": [
    "def simpson_core(f,x,h):\n",
    "    return h*(f(x)+4*f(x+h)+f(x+2*h))/3"
   ]
  },
  {
   "cell_type": "markdown",
   "metadata": {},
   "source": [
    "## Define wrapper function"
   ]
  },
  {
   "cell_type": "code",
   "execution_count": null,
   "metadata": {},
   "outputs": [],
   "source": [
    "def simpsons_method(f,a,b,N):\n",
    "    #f function to int\n",
    "    #a lower lim\n",
    "    #b upper lim\n",
    "    #N number of function evals to use\n",
    "    #number of chunks=N-1\n",
    "    #If N is odd then don't nee do adjust last segment\n",
    "    \n",
    "    #define x values to perform\n",
    "    x=np.linspace(a,b,N)\n",
    "    h=x[1]-x[0]\n",
    "    \n",
    "    #define the value of the integral\n",
    "    Fint=0\n",
    "    \n",
    "    #perform the integral using the simpson's method\n",
    "    for i in range (0,len(x)-2,3):\n",
    "        Fint+=simpson_core(f,x[i],h)\n",
    "        \n",
    "    #apply Simpson's rule over the last interval ifN is even\n",
    "    if(N%2==0):\n",
    "        Fint+=simpson_core(f,x[-2],0.5*h)\n",
    "    return Fint"
   ]
  },
  {
   "cell_type": "markdown",
   "metadata": {},
   "source": [
    "## Define Romberg Core"
   ]
  },
  {
   "cell_type": "code",
   "execution_count": null,
   "metadata": {},
   "outputs": [],
   "source": [
    "def romberg_core (f,a,b,I,i):\n",
    "    #we need the difference b-a\n",
    "    h=b-a\n",
    "    \n",
    "    #and the increment between new func evals\n",
    "    dh=h/2.**(i)\n",
    "    \n",
    "    #we need a cofactor\n",
    "    K=h/2.**(i+1)\n",
    "    \n",
    "    #And the function evaluations\n",
    "    M=0.0\n",
    "    for j in range(2**i):\n",
    "        M+=f(a+.5*dh+j*dh)\n",
    "        \n",
    "    #return the answer\n",
    "    return K*M"
   ]
  },
  {
   "cell_type": "markdown",
   "metadata": {},
   "source": [
    "## Define a wrapper function to perform Romberg integration"
   ]
  },
  {
   "cell_type": "code",
   "execution_count": null,
   "metadata": {},
   "outputs": [],
   "source": [
    "def romberg_integration(f,a,b,tol):\n",
    "    \n",
    "    #define and iteration variable\n",
    "    i=0\n",
    "    \n",
    "    #define a maximum number of iterations\n",
    "    imax=1000\n",
    "    \n",
    "    #define an error estimate set a large value\n",
    "    delta=100.0*np.fabs(tol)\n",
    "    \n",
    "    #set an array of integral answers\n",
    "    I=np.zeros(imax,dtype=float)\n",
    "    \n",
    "    #get the zeroth romberg iteration\n",
    "    I[0]=.5*(b-a)*f(a)+f(b)\n",
    "    \n",
    "    #iterate by 1\n",
    "    i+=1\n",
    "    \n",
    "    while (delta>tol):\n",
    "        #find this romberg iteration\n",
    "        I[i]=.5*I[i-1]+romberg_core(f,a,b,I,i)\n",
    "        \n",
    "        #compute the new fractional error estiamte\n",
    "        delta=np.fabs((I[i]-I[i-1])/I[i])\n",
    "        \n",
    "        print(i,I[i],I[i-1],delta)\n",
    "        \n",
    "        if(delta>tol):\n",
    "            \n",
    "            #iterate\n",
    "            i+=1\n",
    "            \n",
    "            #if we've reached the max iterations\n",
    "            if(i>imax):\n",
    "                print(\"max iterations reached.\")\n",
    "                raise StopIteration('Stopping iterations after ',i)\n",
    "    return I[i]"
   ]
  },
  {
   "cell_type": "markdown",
   "metadata": {},
   "source": [
    "## Find out answer"
   ]
  },
  {
   "cell_type": "code",
   "execution_count": null,
   "metadata": {},
   "outputs": [],
   "source": [
    "Answer=func_integral(1)-func_integral(0)\n",
    "print(Answer)\n",
    "print(\"Trapezoid\")\n",
    "print(trapezoid_method(func,0,1,10))\n",
    "print(\"Simpson's method\")\n",
    "print(simpsons_method(func,0,1,10))\n",
    "print(\"Romberg Method\")\n",
    "tolerance=1.0e-4\n",
    "RI=romberg_integration(func,0,1,tolerance)\n",
    "print(RI, (RI-Answer)/Answer, tolerance)"
   ]
  }
 ],
 "metadata": {
  "kernelspec": {
   "display_name": "Python 3",
   "language": "python",
   "name": "python3"
  },
  "language_info": {
   "codemirror_mode": {
    "name": "ipython",
    "version": 3
   },
   "file_extension": ".py",
   "mimetype": "text/x-python",
   "name": "python",
   "nbconvert_exporter": "python",
   "pygments_lexer": "ipython3",
   "version": "3.6.5"
  }
 },
 "nbformat": 4,
 "nbformat_minor": 2
}
